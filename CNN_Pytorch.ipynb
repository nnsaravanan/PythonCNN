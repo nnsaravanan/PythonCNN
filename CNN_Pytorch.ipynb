{
  "cells": [
    {
      "cell_type": "code",
      "source": [
        "!pip install torchvision"
      ],
      "metadata": {
        "colab": {
          "base_uri": "https://localhost:8080/"
        },
        "id": "9aFKb8f3Vyh9",
        "outputId": "01c599bc-e903-4a1c-ed77-3775bea7427f"
      },
      "id": "9aFKb8f3Vyh9",
      "execution_count": null,
      "outputs": [
        {
          "output_type": "stream",
          "name": "stdout",
          "text": [
            "Looking in indexes: https://pypi.org/simple, https://us-python.pkg.dev/colab-wheels/public/simple/\n",
            "Requirement already satisfied: torchvision in /usr/local/lib/python3.9/dist-packages (0.15.1+cu118)\n",
            "Requirement already satisfied: numpy in /usr/local/lib/python3.9/dist-packages (from torchvision) (1.22.4)\n",
            "Requirement already satisfied: torch==2.0.0 in /usr/local/lib/python3.9/dist-packages (from torchvision) (2.0.0+cu118)\n",
            "Requirement already satisfied: pillow!=8.3.*,>=5.3.0 in /usr/local/lib/python3.9/dist-packages (from torchvision) (8.4.0)\n",
            "Requirement already satisfied: requests in /usr/local/lib/python3.9/dist-packages (from torchvision) (2.27.1)\n",
            "Requirement already satisfied: networkx in /usr/local/lib/python3.9/dist-packages (from torch==2.0.0->torchvision) (3.1)\n",
            "Requirement already satisfied: typing-extensions in /usr/local/lib/python3.9/dist-packages (from torch==2.0.0->torchvision) (4.5.0)\n",
            "Requirement already satisfied: triton==2.0.0 in /usr/local/lib/python3.9/dist-packages (from torch==2.0.0->torchvision) (2.0.0)\n",
            "Requirement already satisfied: filelock in /usr/local/lib/python3.9/dist-packages (from torch==2.0.0->torchvision) (3.11.0)\n",
            "Requirement already satisfied: sympy in /usr/local/lib/python3.9/dist-packages (from torch==2.0.0->torchvision) (1.11.1)\n",
            "Requirement already satisfied: jinja2 in /usr/local/lib/python3.9/dist-packages (from torch==2.0.0->torchvision) (3.1.2)\n",
            "Requirement already satisfied: cmake in /usr/local/lib/python3.9/dist-packages (from triton==2.0.0->torch==2.0.0->torchvision) (3.25.2)\n",
            "Requirement already satisfied: lit in /usr/local/lib/python3.9/dist-packages (from triton==2.0.0->torch==2.0.0->torchvision) (16.0.0)\n",
            "Requirement already satisfied: idna<4,>=2.5 in /usr/local/lib/python3.9/dist-packages (from requests->torchvision) (3.4)\n",
            "Requirement already satisfied: urllib3<1.27,>=1.21.1 in /usr/local/lib/python3.9/dist-packages (from requests->torchvision) (1.26.15)\n",
            "Requirement already satisfied: charset-normalizer~=2.0.0 in /usr/local/lib/python3.9/dist-packages (from requests->torchvision) (2.0.12)\n",
            "Requirement already satisfied: certifi>=2017.4.17 in /usr/local/lib/python3.9/dist-packages (from requests->torchvision) (2022.12.7)\n",
            "Requirement already satisfied: MarkupSafe>=2.0 in /usr/local/lib/python3.9/dist-packages (from jinja2->torch==2.0.0->torchvision) (2.1.2)\n",
            "Requirement already satisfied: mpmath>=0.19 in /usr/local/lib/python3.9/dist-packages (from sympy->torch==2.0.0->torchvision) (1.3.0)\n"
          ]
        }
      ]
    },
    {
      "cell_type": "code",
      "execution_count": null,
      "id": "e652ee99-a6ab-4136-a015-a034e7da0f27",
      "metadata": {
        "tags": [],
        "id": "e652ee99-a6ab-4136-a015-a034e7da0f27"
      },
      "outputs": [],
      "source": [
        "import torch\n",
        "import pandas as pd\n",
        "import numpy as np\n",
        "from torchvision import datasets\n",
        "from torchvision.transforms import ToTensor\n",
        "import matplotlib.pyplot as plt\n",
        "from torch.utils.data import DataLoader\n",
        "from torch import optim\n"
      ]
    },
    {
      "cell_type": "code",
      "execution_count": null,
      "id": "1b0a313f-5959-468d-8565-4157bfd63a64",
      "metadata": {
        "colab": {
          "base_uri": "https://localhost:8080/"
        },
        "id": "1b0a313f-5959-468d-8565-4157bfd63a64",
        "outputId": "1e862af4-f98a-4156-8752-5e68749b5f27"
      },
      "outputs": [
        {
          "output_type": "execute_result",
          "data": {
            "text/plain": [
              "device(type='cpu')"
            ]
          },
          "metadata": {},
          "execution_count": 3
        }
      ],
      "source": [
        "#device config\n",
        "device = torch.device('cpu' if torch.cuda.is_available() else 'cpu')\n",
        "device"
      ]
    },
    {
      "cell_type": "code",
      "execution_count": null,
      "id": "5e38f335-0124-45b8-bdda-362c83deb4cb",
      "metadata": {
        "id": "5e38f335-0124-45b8-bdda-362c83deb4cb",
        "outputId": "4fea32b7-3afe-4e9a-cbcf-59512233c63d",
        "colab": {
          "base_uri": "https://localhost:8080/"
        }
      },
      "outputs": [
        {
          "output_type": "stream",
          "name": "stdout",
          "text": [
            "Downloading http://yann.lecun.com/exdb/mnist/train-images-idx3-ubyte.gz\n",
            "Downloading http://yann.lecun.com/exdb/mnist/train-images-idx3-ubyte.gz to ./data/MNIST/raw/train-images-idx3-ubyte.gz\n"
          ]
        },
        {
          "output_type": "stream",
          "name": "stderr",
          "text": [
            "100%|██████████| 9912422/9912422 [00:00<00:00, 351042438.84it/s]"
          ]
        },
        {
          "output_type": "stream",
          "name": "stdout",
          "text": [
            "Extracting ./data/MNIST/raw/train-images-idx3-ubyte.gz to ./data/MNIST/raw\n"
          ]
        },
        {
          "output_type": "stream",
          "name": "stderr",
          "text": [
            "\n"
          ]
        },
        {
          "output_type": "stream",
          "name": "stdout",
          "text": [
            "\n",
            "Downloading http://yann.lecun.com/exdb/mnist/train-labels-idx1-ubyte.gz\n",
            "Downloading http://yann.lecun.com/exdb/mnist/train-labels-idx1-ubyte.gz to ./data/MNIST/raw/train-labels-idx1-ubyte.gz\n"
          ]
        },
        {
          "output_type": "stream",
          "name": "stderr",
          "text": [
            "100%|██████████| 28881/28881 [00:00<00:00, 13812507.85it/s]\n"
          ]
        },
        {
          "output_type": "stream",
          "name": "stdout",
          "text": [
            "Extracting ./data/MNIST/raw/train-labels-idx1-ubyte.gz to ./data/MNIST/raw\n",
            "\n",
            "Downloading http://yann.lecun.com/exdb/mnist/t10k-images-idx3-ubyte.gz\n",
            "Downloading http://yann.lecun.com/exdb/mnist/t10k-images-idx3-ubyte.gz to ./data/MNIST/raw/t10k-images-idx3-ubyte.gz\n"
          ]
        },
        {
          "output_type": "stream",
          "name": "stderr",
          "text": [
            "100%|██████████| 1648877/1648877 [00:00<00:00, 135539272.84it/s]"
          ]
        },
        {
          "output_type": "stream",
          "name": "stdout",
          "text": [
            "Extracting ./data/MNIST/raw/t10k-images-idx3-ubyte.gz to ./data/MNIST/raw\n"
          ]
        },
        {
          "output_type": "stream",
          "name": "stderr",
          "text": [
            "\n"
          ]
        },
        {
          "output_type": "stream",
          "name": "stdout",
          "text": [
            "\n",
            "Downloading http://yann.lecun.com/exdb/mnist/t10k-labels-idx1-ubyte.gz\n",
            "Downloading http://yann.lecun.com/exdb/mnist/t10k-labels-idx1-ubyte.gz to ./data/MNIST/raw/t10k-labels-idx1-ubyte.gz\n"
          ]
        },
        {
          "output_type": "stream",
          "name": "stderr",
          "text": [
            "100%|██████████| 4542/4542 [00:00<00:00, 4966248.38it/s]"
          ]
        },
        {
          "output_type": "stream",
          "name": "stdout",
          "text": [
            "Extracting ./data/MNIST/raw/t10k-labels-idx1-ubyte.gz to ./data/MNIST/raw\n",
            "\n"
          ]
        },
        {
          "output_type": "stream",
          "name": "stderr",
          "text": [
            "\n"
          ]
        }
      ],
      "source": [
        "train_data = datasets.MNIST(\n",
        "    root='./data',\n",
        "    train=True,\n",
        "    transform=ToTensor(),\n",
        "    download=True,\n",
        ")\n",
        "\n",
        "test_data = datasets.MNIST(\n",
        "    root='./data',\n",
        "    train=False,\n",
        "    transform=ToTensor()\n",
        ")\n"
      ]
    },
    {
      "cell_type": "code",
      "execution_count": null,
      "id": "b80ccad2-0eb5-43b2-80ad-1111bdb4beb8",
      "metadata": {
        "colab": {
          "base_uri": "https://localhost:8080/"
        },
        "id": "b80ccad2-0eb5-43b2-80ad-1111bdb4beb8",
        "outputId": "08b616f9-b182-4b97-99a4-f24067456846"
      },
      "outputs": [
        {
          "output_type": "stream",
          "name": "stdout",
          "text": [
            "Dataset MNIST\n",
            "    Number of datapoints: 60000\n",
            "    Root location: ./data\n",
            "    Split: Train\n",
            "    StandardTransform\n",
            "Transform: ToTensor()\n",
            "\n",
            "Dataset MNIST\n",
            "    Number of datapoints: 10000\n",
            "    Root location: ./data\n",
            "    Split: Test\n",
            "    StandardTransform\n",
            "Transform: ToTensor()\n"
          ]
        }
      ],
      "source": [
        "# print the data of both train test data to make sure it works\n",
        "print(f'{train_data}\\n\\n{test_data}')\n"
      ]
    },
    {
      "cell_type": "code",
      "execution_count": null,
      "id": "9355e63a-bf9e-4f9c-b201-d659e3cc83a9",
      "metadata": {
        "colab": {
          "base_uri": "https://localhost:8080/",
          "height": 430
        },
        "id": "9355e63a-bf9e-4f9c-b201-d659e3cc83a9",
        "outputId": "d87b09eb-e449-4243-dd18-319497d1a788"
      },
      "outputs": [
        {
          "output_type": "display_data",
          "data": {
            "text/plain": [
              "<Figure size 640x480 with 1 Axes>"
            ],
            "image/png": "[encoded data removed]"
          },
          "metadata": {}
        }
      ],
      "source": [
        "# showing one of the images from the dataset\n",
        "plt.imshow(train_data.data[0], cmap='gray')\n",
        "plt.show()"
      ]
    },
    {
      "cell_type": "code",
      "execution_count": null,
      "id": "7ddb7e2b-b231-4d0f-bf3d-8dc17e2ad5b7",
      "metadata": {
        "id": "7ddb7e2b-b231-4d0f-bf3d-8dc17e2ad5b7"
      },
      "outputs": [],
      "source": [
        "# Using data loader to properly load data into model\n",
        "from torch.utils.data import DataLoader\n",
        "\n",
        "train_loader = DataLoader(train_data, batch_size = 64, shuffle = True)\n",
        "test_loader = DataLoader(test_data, batch_size = 64)"
      ]
    },
    {
      "cell_type": "code",
      "execution_count": null,
      "id": "fcbf3078-b0f7-4b06-b60f-a126b79f0468",
      "metadata": {
        "id": "fcbf3078-b0f7-4b06-b60f-a126b79f0468"
      },
      "outputs": [],
      "source": [
        "from torch.nn.modules.pooling import MaxPool2d\n",
        "\n",
        "# make the model itself\n",
        "model = torch.nn.Sequential(\n",
        "    torch.nn.Conv2d(1,20,5),\n",
        "    torch.nn.ReLU(),\n",
        "    torch.nn.AdaptiveMaxPool2d((7,7)),\n",
        "    torch.nn.Conv2d(20,64,5),\n",
        "    torch.nn.ReLU(),\n",
        "    torch.nn.AdaptiveMaxPool2d((7,7)),\n",
        "    torch.nn.Flatten(),\n",
        "    torch.nn.Linear(64*7*7,10)\n",
        ")\n",
        "\n"
      ]
    },
    {
      "cell_type": "code",
      "source": [
        "# print out model architecture\n",
        "print(model)"
      ],
      "metadata": {
        "id": "Q91AuvoeZ45R",
        "colab": {
          "base_uri": "https://localhost:8080/"
        },
        "outputId": "9df7b379-7be2-4f63-a2a7-db3cb88115a9"
      },
      "id": "Q91AuvoeZ45R",
      "execution_count": null,
      "outputs": [
        {
          "output_type": "stream",
          "name": "stdout",
          "text": [
            "Sequential(\n",
            "  (0): Conv2d(1, 20, kernel_size=(5, 5), stride=(1, 1))\n",
            "  (1): ReLU()\n",
            "  (2): AdaptiveMaxPool2d(output_size=(7, 7))\n",
            "  (3): Conv2d(20, 64, kernel_size=(5, 5), stride=(1, 1))\n",
            "  (4): ReLU()\n",
            "  (5): AdaptiveMaxPool2d(output_size=(7, 7))\n",
            "  (6): Flatten(start_dim=1, end_dim=-1)\n",
            "  (7): Linear(in_features=3136, out_features=10, bias=True)\n",
            ")\n"
          ]
        }
      ]
    },
    {
      "cell_type": "code",
      "source": [
        "# sending model to the device selected above\n",
        "\n",
        "model.to(device)"
      ],
      "metadata": {
        "id": "ojn3LEe9v2bm",
        "colab": {
          "base_uri": "https://localhost:8080/"
        },
        "outputId": "916074de-211b-44b6-851c-82e42acd2a1e"
      },
      "id": "ojn3LEe9v2bm",
      "execution_count": null,
      "outputs": [
        {
          "output_type": "execute_result",
          "data": {
            "text/plain": [
              "Sequential(\n",
              "  (0): Conv2d(1, 20, kernel_size=(5, 5), stride=(1, 1))\n",
              "  (1): ReLU()\n",
              "  (2): AdaptiveMaxPool2d(output_size=(7, 7))\n",
              "  (3): Conv2d(20, 64, kernel_size=(5, 5), stride=(1, 1))\n",
              "  (4): ReLU()\n",
              "  (5): AdaptiveMaxPool2d(output_size=(7, 7))\n",
              "  (6): Flatten(start_dim=1, end_dim=-1)\n",
              "  (7): Linear(in_features=3136, out_features=10, bias=True)\n",
              ")"
            ]
          },
          "metadata": {},
          "execution_count": 24
        }
      ]
    },
    {
      "cell_type": "code",
      "execution_count": null,
      "id": "e7656bfe-3fcf-42f2-a525-ed2fd17eeb27",
      "metadata": {
        "id": "e7656bfe-3fcf-42f2-a525-ed2fd17eeb27"
      },
      "outputs": [],
      "source": [
        "# loss function to find what your loss is\n",
        "loss_func = torch.nn.CrossEntropyLoss()"
      ]
    },
    {
      "cell_type": "code",
      "execution_count": null,
      "id": "3adaa4cd-fe4b-4973-9152-81b494476c97",
      "metadata": {
        "id": "3adaa4cd-fe4b-4973-9152-81b494476c97"
      },
      "outputs": [],
      "source": [
        "from torch import optim\n",
        "\n",
        "# add your optimizer\n",
        "optimizer = optim.Adam(model.parameters())"
      ]
    },
    {
      "cell_type": "code",
      "execution_count": null,
      "id": "39080d62-ee64-4935-b1d8-5d6ce3cc0597",
      "metadata": {
        "id": "39080d62-ee64-4935-b1d8-5d6ce3cc0597"
      },
      "outputs": [],
      "source": [
        "# add number of epochs here\n",
        "num_epochs = 5"
      ]
    },
    {
      "cell_type": "code",
      "source": [
        "# this trains your model\n",
        "\n",
        "print(\"We are training the model!\")\n",
        "for epoch in range(num_epochs):\n",
        "  running_loss = 0.0\n",
        "  for i, data in enumerate(train_loader, 0):\n",
        "    inputs, labels = data\n",
        "    optimizer.zero_grad()\n",
        "\n",
        "    # get the prediction\n",
        "    pred = model(inputs)\n",
        "    # get a loss from guessing\n",
        "    loss = loss_func(pred,labels)\n",
        "\n",
        "    # backpropgation\n",
        "    loss.backward()\n",
        "    # let the optimizer step forward\n",
        "    optimizer.step()\n",
        "    # add loss of image to next one\n",
        "    running_loss += loss.item()\n",
        "\n",
        "    if i % 100 == 99:    # print every 100 batches\n",
        "      print('Epoch %d, Batch %d, Loss: %.3f' %\n",
        "            (epoch + 1, i + 1, running_loss / 100))\n",
        "      running_loss = 0.0\n",
        "\n",
        "  print('Epoch %d completed' % (epoch + 1))\n",
        "print(\" ------------------------------------Training is complete! ------------------------------------\")"
      ],
      "metadata": {
        "id": "tUnlqcgEwLMv",
        "colab": {
          "base_uri": "https://localhost:8080/"
        },
        "outputId": "df5729ec-ca57-4cc0-ebc0-ec1d0d00e832"
      },
      "id": "tUnlqcgEwLMv",
      "execution_count": null,
      "outputs": [
        {
          "output_type": "stream",
          "name": "stdout",
          "text": [
            "We are training the model!\n",
            "Epoch 1, Batch 100, Loss: 0.732\n",
            "Epoch 1, Batch 200, Loss: 0.201\n",
            "Epoch 1, Batch 300, Loss: 0.149\n",
            "Epoch 1, Batch 400, Loss: 0.118\n",
            "Epoch 1, Batch 500, Loss: 0.096\n",
            "Epoch 1, Batch 600, Loss: 0.086\n",
            "Epoch 1, Batch 700, Loss: 0.082\n",
            "Epoch 1, Batch 800, Loss: 0.075\n",
            "Epoch 1, Batch 900, Loss: 0.075\n",
            "Epoch 1 completed\n",
            "Epoch 2, Batch 100, Loss: 0.059\n",
            "Epoch 2, Batch 200, Loss: 0.056\n",
            "Epoch 2, Batch 300, Loss: 0.049\n",
            "Epoch 2, Batch 400, Loss: 0.055\n",
            "Epoch 2, Batch 500, Loss: 0.061\n",
            "Epoch 2, Batch 600, Loss: 0.050\n",
            "Epoch 2, Batch 700, Loss: 0.053\n",
            "Epoch 2, Batch 800, Loss: 0.055\n",
            "Epoch 2, Batch 900, Loss: 0.055\n",
            "Epoch 2 completed\n",
            "Epoch 3, Batch 100, Loss: 0.042\n",
            "Epoch 3, Batch 200, Loss: 0.041\n",
            "Epoch 3, Batch 300, Loss: 0.039\n",
            "Epoch 3, Batch 400, Loss: 0.030\n",
            "Epoch 3, Batch 500, Loss: 0.045\n",
            "Epoch 3, Batch 600, Loss: 0.039\n",
            "Epoch 3, Batch 700, Loss: 0.038\n",
            "Epoch 3, Batch 800, Loss: 0.034\n",
            "Epoch 3, Batch 900, Loss: 0.045\n",
            "Epoch 3 completed\n",
            "Epoch 4, Batch 100, Loss: 0.034\n",
            "Epoch 4, Batch 200, Loss: 0.029\n",
            "Epoch 4, Batch 300, Loss: 0.038\n",
            "Epoch 4, Batch 400, Loss: 0.033\n",
            "Epoch 4, Batch 500, Loss: 0.035\n",
            "Epoch 4, Batch 600, Loss: 0.030\n",
            "Epoch 4, Batch 700, Loss: 0.032\n",
            "Epoch 4, Batch 800, Loss: 0.026\n",
            "Epoch 4, Batch 900, Loss: 0.029\n",
            "Epoch 4 completed\n",
            "Epoch 5, Batch 100, Loss: 0.021\n",
            "Epoch 5, Batch 200, Loss: 0.027\n",
            "Epoch 5, Batch 300, Loss: 0.023\n",
            "Epoch 5, Batch 400, Loss: 0.027\n",
            "Epoch 5, Batch 500, Loss: 0.026\n",
            "Epoch 5, Batch 600, Loss: 0.028\n",
            "Epoch 5, Batch 700, Loss: 0.027\n",
            "Epoch 5, Batch 800, Loss: 0.028\n",
            "Epoch 5, Batch 900, Loss: 0.032\n",
            "Epoch 5 completed\n",
            " ------------------------------------Training is complete! ------------------------------------\n"
          ]
        }
      ]
    },
    {
      "cell_type": "code",
      "execution_count": null,
      "id": "29629f0f-ee0e-47cb-989a-9767cdd37fac",
      "metadata": {
        "id": "29629f0f-ee0e-47cb-989a-9767cdd37fac"
      },
      "outputs": [],
      "source": []
    }
  ],
  "metadata": {
    "kernelspec": {
      "display_name": "Python 3 (ipykernel)",
      "language": "python",
      "name": "python3"
    },
    "language_info": {
      "codemirror_mode": {
        "name": "ipython",
        "version": 3
      },
      "file_extension": ".py",
      "mimetype": "text/x-python",
      "name": "python",
      "nbconvert_exporter": "python",
      "pygments_lexer": "ipython3",
      "version": "3.10.9"
    },
    "colab": {
      "provenance": []
    },
    "accelerator": "GPU",
    "gpuClass": "standard"
  },
  "nbformat": 4,
  "nbformat_minor": 5
}